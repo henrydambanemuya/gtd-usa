{
 "cells": [
  {
   "cell_type": "code",
   "execution_count": 5,
   "metadata": {
    "collapsed": true
   },
   "outputs": [],
   "source": [
    "import pandas as pd\n",
    "import numpy as np\n",
    "import matplotlib.pyplot as plt\n",
    "from collections import Counter\n",
    "%matplotlib inline \n",
    "pd.set_option('display.max_colwidth', -1)"
   ]
  },
  {
   "cell_type": "code",
   "execution_count": null,
   "metadata": {
    "collapsed": false
   },
   "outputs": [],
   "source": [
    "global_data = pd.read_excel('../GTD/globalterrorismdb_0617dist.xlsx')\n",
    "data.columns"
   ]
  },
  {
   "cell_type": "code",
   "execution_count": 5,
   "metadata": {
    "collapsed": true
   },
   "outputs": [],
   "source": [
    "us_data = data.loc[data['country_txt'] == 'United States']"
   ]
  },
  {
   "cell_type": "code",
   "execution_count": 6,
   "metadata": {
    "collapsed": false
   },
   "outputs": [
    {
     "data": {
      "text/plain": [
       "2758"
      ]
     },
     "execution_count": 6,
     "metadata": {},
     "output_type": "execute_result"
    }
   ],
   "source": [
    "len(us_data)"
   ]
  },
  {
   "cell_type": "code",
   "execution_count": 8,
   "metadata": {
    "collapsed": false
   },
   "outputs": [
    {
     "data": {
      "text/html": [
       "<div>\n",
       "<table border=\"1\" class=\"dataframe\">\n",
       "  <thead>\n",
       "    <tr style=\"text-align: right;\">\n",
       "      <th></th>\n",
       "      <th>eventid</th>\n",
       "      <th>iyear</th>\n",
       "      <th>imonth</th>\n",
       "      <th>iday</th>\n",
       "      <th>approxdate</th>\n",
       "      <th>extended</th>\n",
       "      <th>resolution</th>\n",
       "      <th>country</th>\n",
       "      <th>country_txt</th>\n",
       "      <th>region</th>\n",
       "      <th>...</th>\n",
       "      <th>addnotes</th>\n",
       "      <th>scite1</th>\n",
       "      <th>scite2</th>\n",
       "      <th>scite3</th>\n",
       "      <th>dbsource</th>\n",
       "      <th>INT_LOG</th>\n",
       "      <th>INT_IDEO</th>\n",
       "      <th>INT_MISC</th>\n",
       "      <th>INT_ANY</th>\n",
       "      <th>related</th>\n",
       "    </tr>\n",
       "  </thead>\n",
       "  <tbody>\n",
       "    <tr>\n",
       "      <th>5</th>\n",
       "      <td>197001010002</td>\n",
       "      <td>1970</td>\n",
       "      <td>1</td>\n",
       "      <td>1</td>\n",
       "      <td>NaN</td>\n",
       "      <td>0</td>\n",
       "      <td>NaN</td>\n",
       "      <td>217</td>\n",
       "      <td>United States</td>\n",
       "      <td>1</td>\n",
       "      <td>...</td>\n",
       "      <td>The Cairo Chief of Police, William Petersen, resigned as a result of the attack.</td>\n",
       "      <td>\"Police Chief Quits,\" Washington Post, January 2, 1970.</td>\n",
       "      <td>\"Cairo Police Chief Quits; Decries Local 'Militants',\" Afro-American, January 10, 1970.</td>\n",
       "      <td>Christopher Hewitt, \"Political Violence and Terrorism in Modern America: A Chronology,\" Praeger Security International, 2005.</td>\n",
       "      <td>Hewitt Project</td>\n",
       "      <td>-9</td>\n",
       "      <td>-9</td>\n",
       "      <td>0</td>\n",
       "      <td>-9</td>\n",
       "      <td>NaN</td>\n",
       "    </tr>\n",
       "  </tbody>\n",
       "</table>\n",
       "<p>1 rows × 135 columns</p>\n",
       "</div>"
      ],
      "text/plain": [
       "        eventid  iyear  imonth  iday approxdate  extended resolution  country  \\\n",
       "5  197001010002  1970   1       1     NaN        0         NaN        217       \n",
       "\n",
       "     country_txt  region   ...     \\\n",
       "5  United States  1        ...      \n",
       "\n",
       "                                                                           addnotes  \\\n",
       "5  The Cairo Chief of Police, William Petersen, resigned as a result of the attack.   \n",
       "\n",
       "                                                    scite1  \\\n",
       "5  \"Police Chief Quits,\" Washington Post, January 2, 1970.   \n",
       "\n",
       "                                                                                    scite2  \\\n",
       "5  \"Cairo Police Chief Quits; Decries Local 'Militants',\" Afro-American, January 10, 1970.   \n",
       "\n",
       "                                                                                                                          scite3  \\\n",
       "5  Christopher Hewitt, \"Political Violence and Terrorism in Modern America: A Chronology,\" Praeger Security International, 2005.   \n",
       "\n",
       "         dbsource  INT_LOG  INT_IDEO INT_MISC INT_ANY  related  \n",
       "5  Hewitt Project -9       -9         0       -9       NaN      \n",
       "\n",
       "[1 rows x 135 columns]"
      ]
     },
     "execution_count": 8,
     "metadata": {},
     "output_type": "execute_result"
    }
   ],
   "source": [
    "us_data.head(1)"
   ]
  },
  {
   "cell_type": "code",
   "execution_count": 10,
   "metadata": {
    "collapsed": false
   },
   "outputs": [],
   "source": [
    "def Bar(counter_param, title='', ylabel='', xlabel='', rotation=0):\n",
    "    \n",
    "    print(counter_param)\n",
    "    \n",
    "    labels = list(counter_param.keys())\n",
    "    values = list(counter_param.values())\n",
    "    ind = np.arange(0, len(labels), 1)\n",
    "    \n",
    "    fig, ax = plt.subplots()\n",
    "    \n",
    "    ax.set_title(title, fontsize=15, fontweight='bold')\n",
    "    ax.set_ylabel(ylabel , fontsize=15)\n",
    "    ax.set_xlabel(xlabel, fontsize=15)\n",
    "    ax.tick_params(axis='x', labelsize=15)\n",
    "    ax.tick_params(axis='y', labelsize=15)\n",
    "\n",
    "    plt.bar(ind, values)\n",
    "    \n",
    "    ax.set_xticks(ind)\n",
    "    ax.set_xticklabels(ax.xaxis.get_majorticklabels(), rotation=rotation)\n",
    "    ax.set_xticklabels(labels[::1])\n",
    "    plt.show()\n",
    "    \n",
    "def Box(values, title='', ylabel='', xlabel=''):\n",
    "    \n",
    "    fig, ax = plt.subplots()\n",
    "    ax.set_title(title, fontsize=15, fontweight='bold')\n",
    "    ax.xaxis.grid(True, linestyle='-', which='major', color='lightgrey', alpha=0.5)\n",
    "    ax.set_ylabel(ylabel, fontsize=15)\n",
    "    ax.set_xlabel(xlabel, fontsize=15)\n",
    "    ax.tick_params(axis='x', labelsize=15)\n",
    "    ax.tick_params(axis='y', labelsize=15)\n",
    "\n",
    "    ax.boxplot(values)\n",
    "\n",
    "    plt.show()\n",
    "    \n",
    "def Histogram(values, title='', ylabel='', xlabel=''):\n",
    "    \n",
    "    fig, ax = plt.subplots()\n",
    "    ax.set_title('', fontsize=15, fontweight='bold')\n",
    "    ax.set_ylabel(ylabel, fontsize=15)\n",
    "    ax.set_xlabel(xlabel, fontsize=15)\n",
    "    ax.tick_params(axis='x', labelsize=15)\n",
    "    ax.tick_params(axis='y', labelsize=15)\n",
    "    ax.hist(values, bins=100, range=(0,max(values)/6), histtype='bar', align='mid', orientation='vertical')\n",
    "    plt.show()"
   ]
  },
  {
   "cell_type": "code",
   "execution_count": 13,
   "metadata": {
    "collapsed": false
   },
   "outputs": [
    {
     "name": "stdout",
     "output_type": "stream",
     "text": [
      "Counter({1970: 468, 1971: 247, 1975: 149, 1977: 130, 1976: 105, 1974: 94, 1978: 87, 1982: 78, 1981: 73, 1979: 69, 1980: 67, 1972: 64, 1984: 63, 2016: 61, 1995: 60, 1973: 58, 1994: 56, 1999: 53, 1986: 49, 1983: 44, 1989: 42, 2001: 41, 1985: 40, 1997: 40, 2015: 39, 1996: 35, 1987: 34, 2002: 33, 1990: 32, 1992: 32, 2000: 32, 2003: 32, 1991: 30, 1998: 30, 1988: 27, 2014: 26, 2005: 20, 2013: 20, 2012: 19, 2008: 18, 2010: 17, 2009: 10, 2011: 10, 2004: 9, 2007: 9, 2006: 6})\n"
     ]
    },
    {
     "data": {
      "image/png": "[encoded data removed]",
      "text/plain": [
       "<matplotlib.figure.Figure at 0x125fe860>"
      ]
     },
     "metadata": {},
     "output_type": "display_data"
    }
   ],
   "source": [
    "plotBar(Counter(us_data.iyear), rotation=270)"
   ]
  },
  {
   "cell_type": "code",
   "execution_count": 14,
   "metadata": {
    "collapsed": false
   },
   "outputs": [
    {
     "name": "stdout",
     "output_type": "stream",
     "text": [
      "Counter({2014: 16860, 2015: 14852, 2016: 13488, 2013: 11996, 2012: 8500, 1992: 5073, 2011: 5071, 2010: 4822, 2008: 4803, 2009: 4719, 1991: 4683, 1989: 4323, 1990: 3887, 1988: 3720, 1984: 3495, 1994: 3458, 2007: 3241, 1997: 3200, 1987: 3184, 1995: 3081, 1996: 3056, 1985: 2915, 1983: 2870, 1986: 2860, 2006: 2749, 1980: 2662, 1979: 2661, 1981: 2585, 1982: 2545, 2005: 2009, 2001: 1907, 2000: 1813, 1978: 1526, 1999: 1395, 2002: 1332, 1977: 1319, 2003: 1262, 2004: 1162, 1998: 933, 1976: 923, 1975: 740, 1970: 651, 1974: 580, 1972: 496, 1973: 473, 1971: 470})\n"
     ]
    },
    {
     "data": {
      "image/png": "[encoded data removed]",
      "text/plain": [
       "<matplotlib.figure.Figure at 0xb4bf588>"
      ]
     },
     "metadata": {},
     "output_type": "display_data"
    }
   ],
   "source": [
    "plotBar(Counter(data.iyear), rotation=270)"
   ]
  },
  {
   "cell_type": "code",
   "execution_count": null,
   "metadata": {
    "collapsed": true
   },
   "outputs": [],
   "source": []
  }
 ],
 "metadata": {
  "anaconda-cloud": {},
  "kernelspec": {
   "display_name": "Python 3",
   "language": "python",
   "name": "python3"
  },
  "language_info": {
   "codemirror_mode": {
    "name": "ipython",
    "version": 3
   },
   "file_extension": ".py",
   "mimetype": "text/x-python",
   "name": "python",
   "nbconvert_exporter": "python",
   "pygments_lexer": "ipython3",
   "version": "3.6.0"
  }
 },
 "nbformat": 4,
 "nbformat_minor": 1
}
